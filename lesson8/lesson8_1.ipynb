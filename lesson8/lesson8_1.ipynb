{
 "cells": [
  {
   "cell_type": "code",
   "execution_count": null,
   "metadata": {},
   "outputs": [
    {
     "data": {
      "text/plain": [
       "dict_values(['台灣', '香港恆生'])"
      ]
     },
     "execution_count": 3,
     "metadata": {},
     "output_type": "execute_result"
    }
   ],
   "source": [
    "import streamlit as st\n",
    "import psycopg2\n",
    "from dotenv import load_dotenv\n",
    "import os\n",
    "import pandas as pd\n",
    "load_dotenv()\n",
    "\n",
    "# conn = psycopg2.connect(host     = os.environ['HOST'],\n",
    "#                        database = os.environ['DATABASE'],\n",
    "#                        user     = os.environ['USER'],\n",
    "#                        password = os.environ['PASSWORD'])\n",
    "conn = psycopg2.connect(host     = os.environ['POSTGRE_HOST'],\n",
    "                        database = os.environ['POSTGRE_DATABASE'],\n",
    "                        user     = os.environ['POSTGRE_USER'],\n",
    "                        password = os.environ['POSTGRE_PASSWORD'])\n",
    "with conn:\n",
    "    with conn.cursor() as cursor:\n",
    "        sql =   '''\n",
    "                SELECT * FROM 市場\n",
    "                '''\n",
    "        cursor.execute(sql)\n",
    "        all_country = cursor.fetchall()\n",
    "conn.close()\n",
    "\n",
    "input_dict = dict(all_country)\n",
    "input_dict.items()\n",
    "input_dict.keys()\n",
    "input_dict.values()"
   ]
  }
 ],
 "metadata": {
  "kernelspec": {
   "display_name": "djlee54168",
   "language": "python",
   "name": "python3"
  },
  "language_info": {
   "codemirror_mode": {
    "name": "ipython",
    "version": 3
   },
   "file_extension": ".py",
   "mimetype": "text/x-python",
   "name": "python",
   "nbconvert_exporter": "python",
   "pygments_lexer": "ipython3",
   "version": "3.10.15"
  }
 },
 "nbformat": 4,
 "nbformat_minor": 2
}
