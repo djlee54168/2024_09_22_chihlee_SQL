{
 "cells": [
  {
   "cell_type": "code",
   "execution_count": 1,
   "metadata": {},
   "outputs": [
    {
     "name": "stderr",
     "output_type": "stream",
     "text": [
      "c:\\Users\\djlee\\miniconda3\\envs\\djlee54168\\lib\\site-packages\\bs4\\__init__.py:228: UserWarning: You provided Unicode markup but also provided a value for from_encoding. Your from_encoding will be ignored.\n",
      "  warnings.warn(\"You provided Unicode markup but also provided a value for from_encoding. Your from_encoding will be ignored.\")\n"
     ]
    },
    {
     "name": "stdout",
     "output_type": "stream",
     "text": [
      "    證券 代號      證券 名稱        發行 股數  外資及陸資尚 可投資股數  全體外資及陸 資持有股數  外資及陸資尚 可投資比率  \\\n",
      "0  006201     元大富櫃50     15946000      15827000        119000         99.25   \n",
      "1  00679B    元大美債20年  10558192000   10285507396     272684604         97.41   \n",
      "2  00687B    國泰20年美債   8545287000    8519207454      26079546         99.69   \n",
      "3  00694B   富邦美債1-3年    189576000     188326338       1249662         99.34   \n",
      "4  00695B  富邦美債7-10年     36186000      33437732       2748268         92.40   \n",
      "\n",
      "   全體外資及陸 資持股比率  外資及陸資共 用法令投資上 限比率  陸資法令投資 上限比率  與前日異動原 因(註)  \\\n",
      "0          0.74              100.0        100.0          NaN   \n",
      "1          2.58              100.0        100.0          NaN   \n",
      "2          0.30              100.0        100.0          NaN   \n",
      "3          0.65              100.0        100.0          NaN   \n",
      "4          7.59              100.0        100.0          NaN   \n",
      "\n",
      "  最近一次上櫃 公司申報外資 持股異動日期  \n",
      "0            113/07/01  \n",
      "1            113/07/01  \n",
      "2            113/07/01  \n",
      "3            113/06/28  \n",
      "4            113/06/28  \n"
     ]
    }
   ],
   "source": [
    "import pandas as pd\n",
    "\n",
    "# 讀取台灣證券交易所的上市公司資料\n",
    "url = 'https://mops.twse.com.tw/server-java/t13sa150_otc?&step=wh'\n",
    "df = pd.read_html(url, encoding='big5-hkscs', header=1)\n",
    "\n",
    "# 顯示前幾行資料\n",
    "print(df[0].head())"
   ]
  }
 ],
 "metadata": {
  "kernelspec": {
   "display_name": "djlee54168",
   "language": "python",
   "name": "python3"
  },
  "language_info": {
   "codemirror_mode": {
    "name": "ipython",
    "version": 3
   },
   "file_extension": ".py",
   "mimetype": "text/x-python",
   "name": "python",
   "nbconvert_exporter": "python",
   "pygments_lexer": "ipython3",
   "version": "3.10.15"
  }
 },
 "nbformat": 4,
 "nbformat_minor": 2
}
