{
 "cells": [
  {
   "cell_type": "code",
   "execution_count": 13,
   "metadata": {},
   "outputs": [],
   "source": [
    "import psycopg2\n",
    "\n",
    "conn = psycopg2.connect(host='192.168.0.252',\n",
    "                        database='mydatabase_a09',\n",
    "                        user='a09',\n",
    "                        password='raspberry')"
   ]
  },
  {
   "cell_type": "code",
   "execution_count": 6,
   "metadata": {},
   "outputs": [
    {
     "name": "stdout",
     "output_type": "stream",
     "text": [
      "<connection object at 0x000001D70214B230; dsn: 'user=a09 password=xxx dbname=mydatabase_a09 host=192.168.0.252', closed: 0>\n"
     ]
    }
   ],
   "source": [
    "print(conn)"
   ]
  },
  {
   "cell_type": "code",
   "execution_count": 14,
   "metadata": {},
   "outputs": [],
   "source": [
    "sql = '''CREATE TABLE IF NOT EXISTS 市場(\n",
    "\tname VARCHAR(20),\n",
    "\tcountry VARCHAR(20),\n",
    "\tPRIMARY KEY(name)\n",
    ");'''\n",
    "\n",
    "cursor = conn.cursor()\n",
    "cursor.execute(sql)\n",
    "\n",
    "sql1 = '''CREATE TABLE IF NOT EXISTS 股市(\n",
    "stock_id SERIAL,\n",
    "date DATE,\n",
    "open NUMERIC(17,10),\n",
    "high NUMERIC(17,10),\n",
    "low NUMERIC(17,10),\n",
    "close NUMERIC(17,10),\n",
    "adj_close NUMERIC(17,10),\n",
    "volume BIGINT DEFAULT 0,\n",
    "name VARCHAR(20),\n",
    "PRIMARY KEY(stock_id),\n",
    "FOREIGN KEY(name) REFERENCES 市場(name) \n",
    "ON DELETE NO ACTION\n",
    "ON UPDATE CASCADE\n",
    ");'''\n",
    "\n",
    "cursor.execute(sql1)\n",
    "conn.commit()\n",
    "\n",
    "cursor.close()\n",
    "conn.close()"
   ]
  },
  {
   "cell_type": "code",
   "execution_count": 15,
   "metadata": {},
   "outputs": [],
   "source": [
    "import psycopg2\n",
    "\n",
    "conn = psycopg2.connect(host='192.168.0.252',\n",
    "                        database='mydatabase_a09',\n",
    "                        user='a09',\n",
    "                        password='raspberry')\n",
    "\n",
    "with conn:\n",
    "    with conn.cursor() as cursor:\n",
    "        sql = '''CREATE TABLE IF NOT EXISTS 市場(\n",
    "\t    name VARCHAR(20),\n",
    "\t    country VARCHAR(20),\n",
    "\t    PRIMARY KEY(name)\n",
    "        );'''\n",
    "        cursor.execute(sql)\n",
    "\n",
    "    with conn.cursor() as cursor:\n",
    "        sql = '''CREATE TABLE IF NOT EXISTS 股市(\n",
    "        stock_id SERIAL,\n",
    "        date DATE,\n",
    "        open NUMERIC(17,10),\n",
    "        high NUMERIC(17,10),\n",
    "        low NUMERIC(17,10),\n",
    "        close NUMERIC(17,10),\n",
    "        adj_close NUMERIC(17,10),\n",
    "        volume BIGINT DEFAULT 0,\n",
    "        name VARCHAR(20),\n",
    "        PRIMARY KEY(stock_id),\n",
    "        FOREIGN KEY(name) REFERENCES 市場(name) \n",
    "        ON DELETE NO ACTION\n",
    "        ON UPDATE CASCADE\n",
    "        );'''\n",
    "        cursor.execute(sql)\n",
    "\n",
    "conn.close()"
   ]
  },
  {
   "cell_type": "code",
   "execution_count": 18,
   "metadata": {},
   "outputs": [],
   "source": [
    "import psycopg2\n",
    "\n",
    "conn = psycopg2.connect(host='192.168.0.252',\n",
    "                        database='mydatabase_a09',\n",
    "                        user='a09',\n",
    "                        password='raspberry')\n",
    "\n",
    "sql1 = '''CREATE TABLE IF NOT EXISTS 市場(\n",
    "\t    name VARCHAR(20),\n",
    "\t    country VARCHAR(20),\n",
    "\t    PRIMARY KEY(name),\n",
    "        UNIQUE(name,country)\n",
    "        );'''\n",
    "\n",
    "sql2 = '''CREATE TABLE IF NOT EXISTS 股市(\n",
    "        stock_id SERIAL,\n",
    "        date DATE,\n",
    "        open NUMERIC(17,10),\n",
    "        high NUMERIC(17,10),\n",
    "        low NUMERIC(17,10),\n",
    "        close NUMERIC(17,10),\n",
    "        adj_close NUMERIC(17,10),\n",
    "        volume BIGINT DEFAULT 0,\n",
    "        name VARCHAR(20),\n",
    "        PRIMARY KEY(stock_id),\n",
    "        UNIQUE(date,name),\n",
    "        FOREIGN KEY(name) REFERENCES 市場(name) \n",
    "        ON DELETE NO ACTION\n",
    "        ON UPDATE CASCADE\n",
    "        );'''\n",
    "\n",
    "with conn:\n",
    "    with conn.cursor() as cursor:        \n",
    "        cursor.execute(sql1)\n",
    "\n",
    "    with conn.cursor() as cursor:        \n",
    "        cursor.execute(sql2)\n",
    "\n",
    "conn.close()"
   ]
  }
 ],
 "metadata": {
  "kernelspec": {
   "display_name": "djlee54168",
   "language": "python",
   "name": "python3"
  },
  "language_info": {
   "codemirror_mode": {
    "name": "ipython",
    "version": 3
   },
   "file_extension": ".py",
   "mimetype": "text/x-python",
   "name": "python",
   "nbconvert_exporter": "python",
   "pygments_lexer": "ipython3",
   "version": "3.10.15"
  }
 },
 "nbformat": 4,
 "nbformat_minor": 2
}
