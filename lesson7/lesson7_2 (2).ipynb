{
 "cells": [
  {
   "cell_type": "code",
   "execution_count": null,
   "metadata": {},
   "outputs": [],
   "source": [
    "import psycopg2\n",
    "\n",
    "conn = psycopg2.connect(host='192.168.0.252',database=\"mydatabase_a09\",user='a09',password='raspberry')\n",
    "with conn:\n",
    "    with conn.cursor() as cursor:\n",
    "        sql='''\n",
    "        INSERT INTO 市場 values (%s,%s)\n",
    "        ON CONFLICT DO NOTHING;\n",
    "        '''\n",
    "        cursor.execute(sql,['^TWII','台灣'])\n",
    "conn.close()"
   ]
  },
  {
   "cell_type": "code",
   "execution_count": null,
   "metadata": {},
   "outputs": [],
   "source": [
    "import yfinance as yf\n",
    "taiwan = yf.download('^TWII')\n"
   ]
  },
  {
   "cell_type": "code",
   "execution_count": null,
   "metadata": {},
   "outputs": [
    {
     "name": "stderr",
     "output_type": "stream",
     "text": [
      "[*********************100%***********************]  1 of 1 completed"
     ]
    },
    {
     "name": "stdout",
     "output_type": "stream",
     "text": [
      "Price                        Adj Close        Close         High          Low  \\\n",
      "Ticker                         2330.TW      2330.TW      2330.TW      2330.TW   \n",
      "Date                                                                            \n",
      "2000-01-04 00:00:00+00:00    34.216965    69.649033    69.649033    68.475182   \n",
      "2000-01-05 00:00:00+00:00    34.985806    71.214043    71.214043    68.866341   \n",
      "2000-01-06 00:00:00+00:00    34.216965    69.649033    71.214043    69.649033   \n",
      "2000-01-07 00:00:00+00:00    33.255753    67.692490    68.475182    66.518639   \n",
      "2000-01-10 00:00:00+00:00    34.409119    70.040192    70.431351    68.475182   \n",
      "...                                ...          ...          ...          ...   \n",
      "2024-11-04 00:00:00+00:00  1040.000000  1040.000000  1045.000000  1025.000000   \n",
      "2024-11-05 00:00:00+00:00  1050.000000  1050.000000  1055.000000  1030.000000   \n",
      "2024-11-06 00:00:00+00:00  1060.000000  1060.000000  1080.000000  1040.000000   \n",
      "2024-11-07 00:00:00+00:00  1065.000000  1065.000000  1075.000000  1050.000000   \n",
      "2024-11-08 00:00:00+00:00  1090.000000  1090.000000  1090.000000  1080.000000   \n",
      "\n",
      "Price                             Open        Volume  \n",
      "Ticker                         2330.TW       2330.TW  \n",
      "Date                                                  \n",
      "2000-01-04 00:00:00+00:00    69.649033  200662336736  \n",
      "2000-01-05 00:00:00+00:00    69.649033  402466805912  \n",
      "2000-01-06 00:00:00+00:00    70.822884  197545715802  \n",
      "2000-01-07 00:00:00+00:00    67.301331  235270344752  \n",
      "2000-01-10 00:00:00+00:00    69.649033  276171685539  \n",
      "...                                ...           ...  \n",
      "2024-11-04 00:00:00+00:00  1030.000000      26747978  \n",
      "2024-11-05 00:00:00+00:00  1030.000000      32385622  \n",
      "2024-11-06 00:00:00+00:00  1050.000000      55349259  \n",
      "2024-11-07 00:00:00+00:00  1050.000000      43975446  \n",
      "2024-11-08 00:00:00+00:00  1085.000000      37099479  \n",
      "\n",
      "[6191 rows x 6 columns]\n"
     ]
    },
    {
     "name": "stderr",
     "output_type": "stream",
     "text": [
      "\n"
     ]
    }
   ],
   "source": [
    "import yfinance as yf\n",
    "# taiwan = yf.download('^TWII')\n",
    "taiwan = yf.download('2330.TW')\n",
    "print(taiwan)\n"
   ]
  },
  {
   "cell_type": "code",
   "execution_count": null,
   "metadata": {},
   "outputs": [],
   "source": [
    "all_data = taiwan.to_dict(orient='index')\n",
    "for key,value in all_data.items():\n",
    "    date = key.date()\n",
    "    name = '^TWII'\n",
    "    print(date)\n",
    "    adj_close = value[('Adj Close', name)]\n",
    "    open = value[('Open', name)]\n",
    "    high = value[('High', name)]\n",
    "    low = value[('Low', name)]\n",
    "    close = value[('Close', name)]\n",
    "    volume = value[('Volume', name)]"
   ]
  },
  {
   "cell_type": "code",
   "execution_count": 10,
   "metadata": {},
   "outputs": [],
   "source": [
    "from decimal import Decimal\n",
    "conn = psycopg2.connect(host='192.168.0.252',database=\"mydatabase_a09\",user='a09',password='raspberry')\n",
    "with conn:\n",
    "    all_data = taiwan.to_dict(orient='index')\n",
    "    for key,value in all_data.items():\n",
    "        date = key.date()\n",
    "        name = '^TWII'\n",
    "        adj_close = Decimal(value[('Adj Close', name)])\n",
    "        open = Decimal(value[('Open', name)])\n",
    "        high = Decimal(value[('High', name)])\n",
    "        low = Decimal(value[('Low', name)])\n",
    "        close = Decimal(value[('Close', name)])\n",
    "        volume = Decimal(value[('Volume', name)])\n",
    "        with conn.cursor() as cursor:\n",
    "            sql='''\n",
    "            INSERT INTO 股市(date,open,high,low,close,adj_close,volume,name) \n",
    "            values(%s,%s,%s,%s,%s,%s,%s,%s)\n",
    "            ON CONFLICT DO NOTHING;\n",
    "            '''\n",
    "            cursor.execute(sql,[date,open,high,low,close,adj_close,volume,name])\n",
    "conn.close()"
   ]
  },
  {
   "cell_type": "code",
   "execution_count": 8,
   "metadata": {},
   "outputs": [],
   "source": [
    "conn = psycopg2.connect(host='192.168.0.252',database=\"mydatabase_a31\",user='a31',password='raspberry')\n",
    "with conn:\n",
    "    with conn.cursor() as cursor:\n",
    "        sql='''\n",
    "        INSERT INTO 市場 values (%s,%s)\n",
    "        ON CONFLICT DO NOTHING;\n",
    "        '''\n",
    "        cursor.execute(sql,['^HSI','香港恒生'])\n",
    "conn.close()"
   ]
  },
  {
   "cell_type": "code",
   "execution_count": 9,
   "metadata": {},
   "outputs": [
    {
     "name": "stderr",
     "output_type": "stream",
     "text": [
      "[*********************100%***********************]  1 of 1 completed\n"
     ]
    }
   ],
   "source": [
    "import yfinance as yf\n",
    "hsi = yf.download('^HSI')\n",
    "all_data = hsi.to_dict(orient='index')\n"
   ]
  },
  {
   "cell_type": "code",
   "execution_count": null,
   "metadata": {},
   "outputs": [],
   "source": [
    "from decimal import Decimal\n",
    "from dotenv import load_dotenv\n",
    "load_dotenv()\n",
    "conn = psycopg2.connect(host='192.168.0.252',database=\"mydatabase_a09\",user='a09',password='raspberry')\n",
    "with conn:\n",
    "    all_data = hsi.to_dict(orient='index')\n",
    "    for key,value in all_data.items():\n",
    "        date = key.date()\n",
    "        name = '^HSI'\n",
    "        adj_close = Decimal(value[('Adj Close', name)])\n",
    "        open = Decimal(value[('Open', name)])\n",
    "        high = Decimal(value[('High', name)])\n",
    "        low = Decimal(value[('Low', name)])\n",
    "        close = Decimal(value[('Close', name)])\n",
    "        volume = Decimal(value[('Volume', name)])\n",
    "        with conn.cursor() as cursor:\n",
    "            sql='''\n",
    "            INSERT INTO 股市(date,open,high,low,close,adj_close,volume,name) \n",
    "            values(%s,%s,%s,%s,%s,%s,%s,%s)\n",
    "            ON CONFLICT DO NOTHING;            \n",
    "            '''\n",
    "            cursor.execute(sql,[date,open,high,low,close,adj_close,volume,name])\n",
    "conn.close()"
   ]
  }
 ],
 "metadata": {
  "kernelspec": {
   "display_name": "djlee54168",
   "language": "python",
   "name": "python3"
  },
  "language_info": {
   "codemirror_mode": {
    "name": "ipython",
    "version": 3
   },
   "file_extension": ".py",
   "mimetype": "text/x-python",
   "name": "python",
   "nbconvert_exporter": "python",
   "pygments_lexer": "ipython3",
   "version": "3.10.15"
  }
 },
 "nbformat": 4,
 "nbformat_minor": 2
}
