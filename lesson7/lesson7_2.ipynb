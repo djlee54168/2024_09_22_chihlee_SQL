{
 "cells": [
  {
   "cell_type": "code",
   "execution_count": 19,
   "metadata": {},
   "outputs": [],
   "source": [
    "import psycopg2\n",
    "conn = psycopg2.connect(host='192.168.0.252',\n",
    "                        database='mydatabase_a09',\n",
    "                        user='a09',\n",
    "                        password='raspberry')\n",
    "\n",
    "sql1 = '''INSERT INTO 市場 values (%s,%s)\n",
    "        ON CONFLICT DO NOTHING;'''\n",
    "\n",
    "sql2 = '''CREATE TABLE IF NOT EXISTS 股市(\n",
    "        stock_id SERIAL,\n",
    "        date DATE,\n",
    "        open NUMERIC(17,10),\n",
    "        high NUMERIC(17,10),\n",
    "        low NUMERIC(17,10),\n",
    "        close NUMERIC(17,10),\n",
    "        adj_close NUMERIC(17,10),\n",
    "        volume BIGINT DEFAULT 0,\n",
    "        name VARCHAR(20),\n",
    "        PRIMARY KEY(stock_id),\n",
    "        UNIQUE(date,name)\n",
    "        FOREIGN KEY(name) REFERENCES 市場(name) \n",
    "        ON DELETE NO ACTION\n",
    "        ON UPDATE CASCADE\n",
    "        ) ON CONFLICT DO NOTHING;'''\n",
    "\n",
    "with conn:\n",
    "    with conn.cursor() as cursor:        \n",
    "        cursor.execute(sql1,['^TWII','台灣'])\n",
    "    with conn.cursor() as cursor:        \n",
    "        cursor.execute(sql1,['^HSI','香港恆生'])\n",
    "\n",
    "conn.close()"
   ]
  },
  {
   "cell_type": "code",
   "execution_count": 5,
   "metadata": {},
   "outputs": [
    {
     "name": "stderr",
     "output_type": "stream",
     "text": [
      "[*********************100%***********************]  1 of 1 completed\n"
     ]
    }
   ],
   "source": [
    "import yfinance as yf\n",
    "taiwan = yf.download('^TWII')"
   ]
  },
  {
   "cell_type": "markdown",
   "metadata": {},
   "source": [
    "下列程式碼有誤，無法正常執行！"
   ]
  },
  {
   "cell_type": "code",
   "execution_count": null,
   "metadata": {},
   "outputs": [
    {
     "ename": "SyntaxError",
     "evalue": "syntax error at or near \"value\"\nLINE 3:     value('1997-07-02'::date,9094.26953125,9124.2998046875,8...\n            ^\n",
     "output_type": "error",
     "traceback": [
      "\u001b[1;31m---------------------------------------------------------------------------\u001b[0m",
      "\u001b[1;31mSyntaxError\u001b[0m                               Traceback (most recent call last)",
      "Cell \u001b[1;32mIn[18], line 23\u001b[0m\n\u001b[0;32m     21\u001b[0m         volume \u001b[38;5;241m=\u001b[39m value[(\u001b[38;5;124m'\u001b[39m\u001b[38;5;124mVolume\u001b[39m\u001b[38;5;124m'\u001b[39m,name)]\n\u001b[0;32m     22\u001b[0m         \u001b[38;5;28;01mwith\u001b[39;00m conn\u001b[38;5;241m.\u001b[39mcursor() \u001b[38;5;28;01mas\u001b[39;00m cursor:            \n\u001b[1;32m---> 23\u001b[0m             \u001b[43mcursor\u001b[49m\u001b[38;5;241;43m.\u001b[39;49m\u001b[43mexecute\u001b[49m\u001b[43m(\u001b[49m\u001b[43msql\u001b[49m\u001b[43m,\u001b[49m\u001b[43m[\u001b[49m\u001b[43mdate\u001b[49m\u001b[43m,\u001b[49m\u001b[38;5;28;43mopen\u001b[39;49m\u001b[43m,\u001b[49m\u001b[43mhigh\u001b[49m\u001b[43m,\u001b[49m\u001b[43mlow\u001b[49m\u001b[43m,\u001b[49m\u001b[43mclose\u001b[49m\u001b[43m,\u001b[49m\u001b[43madj_close\u001b[49m\u001b[43m,\u001b[49m\u001b[43mvolume\u001b[49m\u001b[43m,\u001b[49m\u001b[43mname\u001b[49m\u001b[43m]\u001b[49m\u001b[43m)\u001b[49m\n\u001b[0;32m     25\u001b[0m conn\u001b[38;5;241m.\u001b[39mclose()\n",
      "\u001b[1;31mSyntaxError\u001b[0m: syntax error at or near \"value\"\nLINE 3:     value('1997-07-02'::date,9094.26953125,9124.2998046875,8...\n            ^\n"
     ]
    }
   ],
   "source": [
    "# error\n",
    "import psycopg2\n",
    "conn = psycopg2.connect(host='192.168.0.252',\n",
    "                        database='mydatabase_a09',\n",
    "                        user='a09',\n",
    "                        password='raspberry')\n",
    "sql='''\n",
    "    insert into 股市(date,open,high,low,close,adj_close,volume,name)\n",
    "    value(%s,%s,%s,%s,%s,%s,%s,%s);\n",
    "    '''\n",
    "\n",
    "with conn:\n",
    "    all_data = taiwan.to_dict(orient='index')\n",
    "    for key,value in all_data.items():\n",
    "        date = key.date()\n",
    "        name = '^TWII'\n",
    "        adj_close = value[('Adj Close',name)]\n",
    "        open = value[('Open',name)]\n",
    "        high = value[('High',name)]\n",
    "        low = value[('Low',name)]\n",
    "        close = value[('Close',name)]\n",
    "        volume = value[('Volume',name)]\n",
    "        with conn.cursor() as cursor:            \n",
    "            cursor.execute(sql,[date,open,high,low,close,adj_close,volume,name])\n",
    "\n",
    "conn.close()"
   ]
  },
  {
   "cell_type": "code",
   "execution_count": null,
   "metadata": {},
   "outputs": [],
   "source": [
    "from decimal import Decimal\n",
    "conn = psycopg2.connect(host='192.168.0.252',database=\"mydatabase_a09\",user='a09',password='raspberry')\n",
    "with conn:\n",
    "    all_data = taiwan.to_dict(orient='index')\n",
    "    for key,value in all_data.items():\n",
    "        date = key.date()\n",
    "        name = '^TWII'\n",
    "        adj_close = Decimal(value[('Adj Close', name)])\n",
    "        open = Decimal(value[('Open', name)])\n",
    "        high = Decimal(value[('High', name)])\n",
    "        low = Decimal(value[('Low', name)])\n",
    "        close = Decimal(value[('Close', name)])\n",
    "        volume = Decimal(value[('Volume', name)])\n",
    "        with conn.cursor() as cursor:\n",
    "            sql='''\n",
    "            INSERT INTO 股市(date,open,high,low,close,adj_close,volume,name) \n",
    "            values(%s,%s,%s,%s,%s,%s,%s,%s) ON CONFLICT DO NOTHING;\n",
    "            '''\n",
    "            cursor.execute(sql,[date,open,high,low,close,adj_close,volume,name])\n",
    "conn.close()"
   ]
  },
  {
   "cell_type": "code",
   "execution_count": null,
   "metadata": {},
   "outputs": [],
   "source": []
  },
  {
   "cell_type": "code",
   "execution_count": null,
   "metadata": {},
   "outputs": [],
   "source": [
    "from decimal import Decimal\n",
    "conn = psycopg2.connect(host='192.168.0.252',database=\"mydatabase_a09',user='a',password='raspberry')\n",
    "with conn:\n",
    "    all_data = hsi.to_dict(orient='index')\n",
    "    for key,value in all_data.items():\n",
    "        date = key.date()\n",
    "        name = '^HSI'\n",
    "        adj_close = Decimal(value[('Adj Close', name)])\n",
    "        open = Decimal(value[('Open', name)])\n",
    "        high = Decimal(value[('High', name)])\n",
    "        low = Decimal(value[('Low', name)])\n",
    "        close = Decimal(value[('Close', name)])\n",
    "        volume = Decimal(value[('Volume', name)])\n",
    "        with conn.cursor() as cursor:\n",
    "            sql='''\n",
    "            INSERT INTO 股市(date,open,high,low,close,adj_close,volume,name) \n",
    "            values(%s,%s,%s,%s,%s,%s,%s,%s)\n",
    "            ON CONFLICT DO NOTHING;            \n",
    "            '''\n",
    "            cursor.execute(sql,[date,open,high,low,close,adj_close,volume,name])\n",
    "conn.close()"
   ]
  },
  {
   "cell_type": "code",
   "execution_count": null,
   "metadata": {},
   "outputs": [],
   "source": []
  }
 ],
 "metadata": {
  "kernelspec": {
   "display_name": "djlee54168",
   "language": "python",
   "name": "python3"
  },
  "language_info": {
   "codemirror_mode": {
    "name": "ipython",
    "version": 3
   },
   "file_extension": ".py",
   "mimetype": "text/x-python",
   "name": "python",
   "nbconvert_exporter": "python",
   "pygments_lexer": "ipython3",
   "version": "3.10.15"
  }
 },
 "nbformat": 4,
 "nbformat_minor": 2
}
