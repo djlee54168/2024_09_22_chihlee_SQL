{
 "cells": [
  {
   "cell_type": "code",
   "execution_count": null,
   "metadata": {},
   "outputs": [],
   "source": [
    "import psycopg2\n",
    "from dotenv import load_dotenv\n",
    "import os\n",
    "load_dotenv()\n",
    "\n",
    "conn = psycopg2.connect(host     = os.environ['HOST'],\n",
    "                        database = os.environ['DATABASE'],\n",
    "                        user     = os.environ['USER'],\n",
    "                        password = os.environ['PASSWORD'])"
   ]
  }
 ],
 "metadata": {
  "kernelspec": {
   "display_name": "djlee54168",
   "language": "python",
   "name": "python3"
  },
  "language_info": {
   "codemirror_mode": {
    "name": "ipython",
    "version": 3
   },
   "file_extension": ".py",
   "mimetype": "text/x-python",
   "name": "python",
   "nbconvert_exporter": "python",
   "pygments_lexer": "ipython3",
   "version": "3.10.15"
  }
 },
 "nbformat": 4,
 "nbformat_minor": 2
}
