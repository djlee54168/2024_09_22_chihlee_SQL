{
 "cells": [
  {
   "cell_type": "markdown",
   "metadata": {},
   "source": [
    "### 輸入函數及連線到postgreSQL資料庫伺服器"
   ]
  },
  {
   "cell_type": "code",
   "execution_count": 1,
   "metadata": {},
   "outputs": [],
   "source": [
    "# import streamlit as st\n",
    "import psycopg2\n",
    "from dotenv import load_dotenv\n",
    "import os\n",
    "load_dotenv()\n",
    "\n",
    "conn = psycopg2.connect(host     = os.environ['HOST'],\n",
    "                        database = os.environ['DATABASE'],\n",
    "                        user     = os.environ['USER'],\n",
    "                        password = os.environ['PASSWORD'])"
   ]
  },
  {
   "cell_type": "markdown",
   "metadata": {},
   "source": [
    "### 建立「市場」、「股市」資料庫"
   ]
  },
  {
   "cell_type": "code",
   "execution_count": 2,
   "metadata": {},
   "outputs": [],
   "source": [
    "sql1 = '''\n",
    "        CREATE TABLE IF NOT EXISTS 市場(\n",
    "\t        name    VARCHAR(20),\n",
    "\t        country VARCHAR(20),\n",
    "\t        PRIMARY KEY(name),\n",
    "                UNIQUE(name,country)\n",
    "                );\n",
    "        '''\n",
    "\n",
    "sql2 = '''\n",
    "        CREATE TABLE IF NOT EXISTS 股市(\n",
    "        stock_id    SERIAL,\n",
    "        date        DATE,\n",
    "        open        NUMERIC(17,10),\n",
    "        high        NUMERIC(17,10),\n",
    "        low         NUMERIC(17,10),\n",
    "        close       NUMERIC(17,10),\n",
    "        adj_close   NUMERIC(17,10),\n",
    "        volume      BIGINT DEFAULT 0,\n",
    "        name        VARCHAR(20),\n",
    "        PRIMARY KEY(stock_id),\n",
    "        UNIQUE(date,name),\n",
    "        FOREIGN KEY(name) REFERENCES 市場(name) \n",
    "        ON DELETE NO ACTION\n",
    "        ON UPDATE CASCADE\n",
    "        );'''\n",
    "\n",
    "with conn:\n",
    "    with conn.cursor() as cursor:        \n",
    "        cursor.execute(sql1)\n",
    "\n",
    "    with conn.cursor() as cursor:        \n",
    "        cursor.execute(sql2)\n"
   ]
  },
  {
   "cell_type": "markdown",
   "metadata": {},
   "source": [
    "### 新增台灣、香港恆生至「市場」資料庫"
   ]
  },
  {
   "cell_type": "code",
   "execution_count": 3,
   "metadata": {},
   "outputs": [],
   "source": [
    "sql3 =  '''\n",
    "        INSERT INTO 市場 values (%s,%s)\n",
    "        ON CONFLICT DO NOTHING;\n",
    "        '''\n",
    "with conn:\n",
    "    with conn.cursor() as cursor:\n",
    "        cursor.execute(sql3,['^TWII','台灣'])\n",
    "        cursor.execute(sql3,['^HSI','香港恒生'])\n"
   ]
  },
  {
   "cell_type": "markdown",
   "metadata": {},
   "source": [
    "### 新增台灣及香港恆生股市資料至「股市」資料庫"
   ]
  },
  {
   "cell_type": "code",
   "execution_count": null,
   "metadata": {},
   "outputs": [
    {
     "name": "stderr",
     "output_type": "stream",
     "text": [
      "[*********************100%***********************]  1 of 1 completed\n",
      "[*********************100%***********************]  1 of 1 completed\n"
     ]
    }
   ],
   "source": [
    "import yfinance as yf\n",
    "taiwan      = yf.download('^TWII')\n",
    "hongkong    = yf.download('^HSI')\n",
    "\n",
    "from decimal import Decimal\n",
    "\n",
    "sql4 =  '''\n",
    "        INSERT INTO 股市(date,open,high,low,close,adj_close,volume,name) \n",
    "        values(%s,%s,%s,%s,%s,%s,%s,%s)\n",
    "        ON CONFLICT DO NOTHING;\n",
    "        '''\n",
    "with conn:\n",
    "    all_data        = taiwan.to_dict(orient='index')\n",
    "    for key,value in all_data.items():\n",
    "        date        = key.date()\n",
    "        name        = '^TWII'\n",
    "        adj_close   = Decimal(value[('Adj Close', name)])\n",
    "        open        = Decimal(value[('Open'     , name)])\n",
    "        high        = Decimal(value[('High'     , name)])\n",
    "        low         = Decimal(value[('Low'      , name)])\n",
    "        close       = Decimal(value[('Close'    , name)])\n",
    "        volume      = Decimal(value[('Volume'   , name)])\n",
    "        with conn.cursor() as cursor:            \n",
    "            cursor.execute(sql4,[date,open,high,low,close,adj_close,volume,name])\n",
    "\n",
    "    all_data        = hongkong.to_dict(orient='index')\n",
    "    for key,value in all_data.items():\n",
    "        date        = key.date()\n",
    "        name        = '^HSI'\n",
    "        adj_close   = Decimal(value[('Adj Close', name)])\n",
    "        open        = Decimal(value[('Open'     , name)])\n",
    "        high        = Decimal(value[('High'     , name)])\n",
    "        low         = Decimal(value[('Low'      , name)])\n",
    "        close       = Decimal(value[('Close'    , name)])\n",
    "        volume      = Decimal(value[('Volume'   , name)])\n",
    "        with conn.cursor() as cursor:            \n",
    "            cursor.execute(sql4,[date,open,high,low,close,adj_close,volume,name])\n",
    "\n",
    "conn.close()"
   ]
  }
 ],
 "metadata": {
  "kernelspec": {
   "display_name": "djlee54168",
   "language": "python",
   "name": "python3"
  },
  "language_info": {
   "codemirror_mode": {
    "name": "ipython",
    "version": 3
   },
   "file_extension": ".py",
   "mimetype": "text/x-python",
   "name": "python",
   "nbconvert_exporter": "python",
   "pygments_lexer": "ipython3",
   "version": "3.10.15"
  }
 },
 "nbformat": 4,
 "nbformat_minor": 2
}
