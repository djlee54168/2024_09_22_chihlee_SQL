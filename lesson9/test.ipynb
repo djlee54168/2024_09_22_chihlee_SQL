{
 "cells": [
  {
   "cell_type": "code",
   "execution_count": null,
   "metadata": {},
   "outputs": [
    {
     "ename": "SyntaxError",
     "evalue": "expected ':' (218691637.py, line 3)",
     "output_type": "error",
     "traceback": [
      "\u001b[1;36m  Cell \u001b[1;32mIn[3], line 3\u001b[1;36m\u001b[0m\n\u001b[1;33m    with st.spinner('Wait for it ...')\u001b[0m\n\u001b[1;37m                                      ^\u001b[0m\n\u001b[1;31mSyntaxError\u001b[0m\u001b[1;31m:\u001b[0m expected ':'\n"
     ]
    }
   ],
   "source": [
    "from dotenv import load_dotenv\n",
    "import streamlit as st\n",
    "from time import sleep\n",
    "load_dotenv()\n",
    "\n",
    "@st.dilog('目前發生問題，請稍後再試')\n",
    "def alert():\n",
    "    st.wirte('連線有問題')\n",
    "\n",
    "with st.spinner('下載資料中...'):\n",
    "        get_data()\n",
    "        \n",
    "st.success('下載完成',icon='')"
   ]
  }
 ],
 "metadata": {
  "kernelspec": {
   "display_name": "djlee54168",
   "language": "python",
   "name": "python3"
  },
  "language_info": {
   "codemirror_mode": {
    "name": "ipython",
    "version": 3
   },
   "file_extension": ".py",
   "mimetype": "text/x-python",
   "name": "python",
   "nbconvert_exporter": "python",
   "pygments_lexer": "ipython3",
   "version": "3.10.15"
  }
 },
 "nbformat": 4,
 "nbformat_minor": 2
}
